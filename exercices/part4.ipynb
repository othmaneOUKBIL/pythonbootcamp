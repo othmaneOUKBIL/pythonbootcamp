{
 "cells": [
  {
   "cell_type": "markdown",
   "id": "47a096ce",
   "metadata": {},
   "source": [
    "### Exercice 1:"
   ]
  },
  {
   "cell_type": "markdown",
   "id": "f4977bb9",
   "metadata": {},
   "source": [
    "Write a Python class named square constructed by a length and two methods which will compute the area and the perimeter of the square."
   ]
  },
  {
   "cell_type": "code",
   "execution_count": 20,
   "id": "48a899aa",
   "metadata": {},
   "outputs": [],
   "source": [
    "class square():\n",
    "    #define your methods\n",
    "    pass"
   ]
  },
  {
   "cell_type": "markdown",
   "id": "63d320bf",
   "metadata": {},
   "source": [
    "### Exercice 2:"
   ]
  },
  {
   "cell_type": "markdown",
   "id": "2ac6a965",
   "metadata": {},
   "source": [
    "Write a python class rectangle that inherits from the square class."
   ]
  },
  {
   "cell_type": "code",
   "execution_count": 21,
   "id": "007adc0d",
   "metadata": {},
   "outputs": [],
   "source": [
    "class rectangle(square):\n",
    "        #__init__ method only\n",
    "        pass"
   ]
  },
  {
   "cell_type": "markdown",
   "id": "14d9d504",
   "metadata": {},
   "source": [
    "### Exercice 3:"
   ]
  },
  {
   "cell_type": "code",
   "execution_count": 23,
   "id": "46dd0e2e",
   "metadata": {},
   "outputs": [],
   "source": [
    "class SampleClass:\n",
    "\n",
    "    def __init__(self, a):\n",
    "        ## private varibale in Python\n",
    "        self.__a = a\n",
    "\n",
    "x = SampleClass(3)\n",
    "print(x.a)\n",
    "x.a = 23\n",
    "print(x.a)\n"
   ]
  },
  {
   "cell_type": "markdown",
   "id": "048585b9",
   "metadata": {},
   "source": [
    "Use python decorators to make the above code works"
   ]
  },
  {
   "cell_type": "code",
   "execution_count": null,
   "id": "70533302",
   "metadata": {},
   "outputs": [],
   "source": []
  },
  {
   "cell_type": "code",
   "execution_count": null,
   "id": "71ec372d",
   "metadata": {},
   "outputs": [],
   "source": []
  }
 ],
 "metadata": {
  "kernelspec": {
   "display_name": "Python 3 (ipykernel)",
   "language": "python",
   "name": "python3"
  },
  "language_info": {
   "codemirror_mode": {
    "name": "ipython",
    "version": 3
   },
   "file_extension": ".py",
   "mimetype": "text/x-python",
   "name": "python",
   "nbconvert_exporter": "python",
   "pygments_lexer": "ipython3",
   "version": "3.8.10"
  }
 },
 "nbformat": 4,
 "nbformat_minor": 5
}
